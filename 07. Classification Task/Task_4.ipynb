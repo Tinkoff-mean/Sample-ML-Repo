{
 "cells": [
  {
   "cell_type": "markdown",
   "metadata": {
    "id": "6MOxx6oPX84w"
   },
   "source": [
    "# Домашнее задание\n",
    "\n",
    "Всего у вас 2 домашних задания:\n",
    "\n",
    "### 1) Бинарная классификация на примере детекции фрода на кредитных картах (6 баллов)\n",
    "(в этом файле)\n",
    "\n",
    "### 2) Небинарная классификация на вашем датасете (6 баллов)\n",
    "(тоже в этом файле)\n",
    "\n",
    "# 1 - Бинарная классификация на примере детекции фрода на кредитных картах (суммарно 6 баллов)\n",
    "У вас есть информация о множесте транзакций. Вам нужно научиться предсказывать, какие из них мошеннические, а какие нет."
   ]
  },
  {
   "cell_type": "code",
   "execution_count": 4,
   "metadata": {
    "ExecuteTime": {
     "end_time": "2022-04-28T19:36:28.578639Z",
     "start_time": "2022-04-28T19:36:28.570530Z"
    }
   },
   "outputs": [],
   "source": [
    "import pandas as pd\n",
    "from collections import Counter\n",
    "import numpy as np\n",
    "import matplotlib.pyplot as plt\n",
    "\n",
    "from sklearn.model_selection import train_test_split\n",
    "from sklearn.linear_model import LogisticRegression\n",
    "from sklearn.metrics import accuracy_score, precision_score, recall_score, f1_score, roc_auc_score, roc_curve\n",
    "from sklearn.neighbors import KNeighborsClassifier\n",
    "from sklearn.preprocessing import LabelEncoder\n",
    "\n",
    "\n",
    "import warnings\n",
    "warnings.filterwarnings(\"ignore\")"
   ]
  },
  {
   "cell_type": "markdown",
   "metadata": {
    "id": "05bNeRE_X84z"
   },
   "source": [
    "### (1 балл) Считайте данные\n",
    "Сами считайте и предобработайте, если надо, данные из файла creditcard.csv"
   ]
  },
  {
   "cell_type": "code",
   "execution_count": 5,
   "metadata": {
    "ExecuteTime": {
     "end_time": "2022-04-28T19:36:32.251306Z",
     "start_time": "2022-04-28T19:36:29.451912Z"
    },
    "id": "OzJ8GvevX840"
   },
   "outputs": [
    {
     "data": {
      "text/html": [
       "<div>\n",
       "<style scoped>\n",
       "    .dataframe tbody tr th:only-of-type {\n",
       "        vertical-align: middle;\n",
       "    }\n",
       "\n",
       "    .dataframe tbody tr th {\n",
       "        vertical-align: top;\n",
       "    }\n",
       "\n",
       "    .dataframe thead th {\n",
       "        text-align: right;\n",
       "    }\n",
       "</style>\n",
       "<table border=\"1\" class=\"dataframe\">\n",
       "  <thead>\n",
       "    <tr style=\"text-align: right;\">\n",
       "      <th></th>\n",
       "      <th>Time</th>\n",
       "      <th>V1</th>\n",
       "      <th>V2</th>\n",
       "      <th>V3</th>\n",
       "      <th>V4</th>\n",
       "      <th>V5</th>\n",
       "      <th>V6</th>\n",
       "      <th>V7</th>\n",
       "      <th>V8</th>\n",
       "      <th>V9</th>\n",
       "      <th>...</th>\n",
       "      <th>V21</th>\n",
       "      <th>V22</th>\n",
       "      <th>V23</th>\n",
       "      <th>V24</th>\n",
       "      <th>V25</th>\n",
       "      <th>V26</th>\n",
       "      <th>V27</th>\n",
       "      <th>V28</th>\n",
       "      <th>Amount</th>\n",
       "      <th>Class</th>\n",
       "    </tr>\n",
       "  </thead>\n",
       "  <tbody>\n",
       "    <tr>\n",
       "      <th>0</th>\n",
       "      <td>0.0</td>\n",
       "      <td>-1.359807</td>\n",
       "      <td>-0.072781</td>\n",
       "      <td>2.536347</td>\n",
       "      <td>1.378155</td>\n",
       "      <td>-0.338321</td>\n",
       "      <td>0.462388</td>\n",
       "      <td>0.239599</td>\n",
       "      <td>0.098698</td>\n",
       "      <td>0.363787</td>\n",
       "      <td>...</td>\n",
       "      <td>-0.018307</td>\n",
       "      <td>0.277838</td>\n",
       "      <td>-0.110474</td>\n",
       "      <td>0.066928</td>\n",
       "      <td>0.128539</td>\n",
       "      <td>-0.189115</td>\n",
       "      <td>0.133558</td>\n",
       "      <td>-0.021053</td>\n",
       "      <td>149.62</td>\n",
       "      <td>0</td>\n",
       "    </tr>\n",
       "    <tr>\n",
       "      <th>1</th>\n",
       "      <td>0.0</td>\n",
       "      <td>1.191857</td>\n",
       "      <td>0.266151</td>\n",
       "      <td>0.166480</td>\n",
       "      <td>0.448154</td>\n",
       "      <td>0.060018</td>\n",
       "      <td>-0.082361</td>\n",
       "      <td>-0.078803</td>\n",
       "      <td>0.085102</td>\n",
       "      <td>-0.255425</td>\n",
       "      <td>...</td>\n",
       "      <td>-0.225775</td>\n",
       "      <td>-0.638672</td>\n",
       "      <td>0.101288</td>\n",
       "      <td>-0.339846</td>\n",
       "      <td>0.167170</td>\n",
       "      <td>0.125895</td>\n",
       "      <td>-0.008983</td>\n",
       "      <td>0.014724</td>\n",
       "      <td>2.69</td>\n",
       "      <td>0</td>\n",
       "    </tr>\n",
       "    <tr>\n",
       "      <th>2</th>\n",
       "      <td>1.0</td>\n",
       "      <td>-1.358354</td>\n",
       "      <td>-1.340163</td>\n",
       "      <td>1.773209</td>\n",
       "      <td>0.379780</td>\n",
       "      <td>-0.503198</td>\n",
       "      <td>1.800499</td>\n",
       "      <td>0.791461</td>\n",
       "      <td>0.247676</td>\n",
       "      <td>-1.514654</td>\n",
       "      <td>...</td>\n",
       "      <td>0.247998</td>\n",
       "      <td>0.771679</td>\n",
       "      <td>0.909412</td>\n",
       "      <td>-0.689281</td>\n",
       "      <td>-0.327642</td>\n",
       "      <td>-0.139097</td>\n",
       "      <td>-0.055353</td>\n",
       "      <td>-0.059752</td>\n",
       "      <td>378.66</td>\n",
       "      <td>0</td>\n",
       "    </tr>\n",
       "    <tr>\n",
       "      <th>3</th>\n",
       "      <td>1.0</td>\n",
       "      <td>-0.966272</td>\n",
       "      <td>-0.185226</td>\n",
       "      <td>1.792993</td>\n",
       "      <td>-0.863291</td>\n",
       "      <td>-0.010309</td>\n",
       "      <td>1.247203</td>\n",
       "      <td>0.237609</td>\n",
       "      <td>0.377436</td>\n",
       "      <td>-1.387024</td>\n",
       "      <td>...</td>\n",
       "      <td>-0.108300</td>\n",
       "      <td>0.005274</td>\n",
       "      <td>-0.190321</td>\n",
       "      <td>-1.175575</td>\n",
       "      <td>0.647376</td>\n",
       "      <td>-0.221929</td>\n",
       "      <td>0.062723</td>\n",
       "      <td>0.061458</td>\n",
       "      <td>123.50</td>\n",
       "      <td>0</td>\n",
       "    </tr>\n",
       "    <tr>\n",
       "      <th>4</th>\n",
       "      <td>2.0</td>\n",
       "      <td>-1.158233</td>\n",
       "      <td>0.877737</td>\n",
       "      <td>1.548718</td>\n",
       "      <td>0.403034</td>\n",
       "      <td>-0.407193</td>\n",
       "      <td>0.095921</td>\n",
       "      <td>0.592941</td>\n",
       "      <td>-0.270533</td>\n",
       "      <td>0.817739</td>\n",
       "      <td>...</td>\n",
       "      <td>-0.009431</td>\n",
       "      <td>0.798278</td>\n",
       "      <td>-0.137458</td>\n",
       "      <td>0.141267</td>\n",
       "      <td>-0.206010</td>\n",
       "      <td>0.502292</td>\n",
       "      <td>0.219422</td>\n",
       "      <td>0.215153</td>\n",
       "      <td>69.99</td>\n",
       "      <td>0</td>\n",
       "    </tr>\n",
       "  </tbody>\n",
       "</table>\n",
       "<p>5 rows × 31 columns</p>\n",
       "</div>"
      ],
      "text/plain": [
       "   Time        V1        V2        V3        V4        V5        V6        V7  \\\n",
       "0   0.0 -1.359807 -0.072781  2.536347  1.378155 -0.338321  0.462388  0.239599   \n",
       "1   0.0  1.191857  0.266151  0.166480  0.448154  0.060018 -0.082361 -0.078803   \n",
       "2   1.0 -1.358354 -1.340163  1.773209  0.379780 -0.503198  1.800499  0.791461   \n",
       "3   1.0 -0.966272 -0.185226  1.792993 -0.863291 -0.010309  1.247203  0.237609   \n",
       "4   2.0 -1.158233  0.877737  1.548718  0.403034 -0.407193  0.095921  0.592941   \n",
       "\n",
       "         V8        V9  ...       V21       V22       V23       V24       V25  \\\n",
       "0  0.098698  0.363787  ... -0.018307  0.277838 -0.110474  0.066928  0.128539   \n",
       "1  0.085102 -0.255425  ... -0.225775 -0.638672  0.101288 -0.339846  0.167170   \n",
       "2  0.247676 -1.514654  ...  0.247998  0.771679  0.909412 -0.689281 -0.327642   \n",
       "3  0.377436 -1.387024  ... -0.108300  0.005274 -0.190321 -1.175575  0.647376   \n",
       "4 -0.270533  0.817739  ... -0.009431  0.798278 -0.137458  0.141267 -0.206010   \n",
       "\n",
       "        V26       V27       V28  Amount  Class  \n",
       "0 -0.189115  0.133558 -0.021053  149.62      0  \n",
       "1  0.125895 -0.008983  0.014724    2.69      0  \n",
       "2 -0.139097 -0.055353 -0.059752  378.66      0  \n",
       "3 -0.221929  0.062723  0.061458  123.50      0  \n",
       "4  0.502292  0.219422  0.215153   69.99      0  \n",
       "\n",
       "[5 rows x 31 columns]"
      ]
     },
     "execution_count": 5,
     "metadata": {},
     "output_type": "execute_result"
    }
   ],
   "source": [
    "df = pd.read_csv('creditcard.csv')\n",
    "df.head()"
   ]
  },
  {
   "cell_type": "code",
   "execution_count": 6,
   "metadata": {
    "ExecuteTime": {
     "end_time": "2022-04-28T19:36:33.200692Z",
     "start_time": "2022-04-28T19:36:33.003310Z"
    },
    "id": "4wEfn60YX841"
   },
   "outputs": [],
   "source": [
    "X = df.drop(['Class'], axis=1)\n",
    "y = df['Class']\n",
    "\n",
    "X_train, X_test, y_train, y_test = train_test_split(X, y, test_size=0.2, random_state=42)"
   ]
  },
  {
   "cell_type": "code",
   "execution_count": 12,
   "metadata": {
    "ExecuteTime": {
     "end_time": "2022-04-28T19:39:29.873359Z",
     "start_time": "2022-04-28T19:39:29.863036Z"
    }
   },
   "outputs": [
    {
     "data": {
      "text/plain": [
       "(227845, 30)"
      ]
     },
     "execution_count": 12,
     "metadata": {},
     "output_type": "execute_result"
    }
   ],
   "source": [
    "X_train.shape"
   ]
  },
  {
   "cell_type": "markdown",
   "metadata": {
    "id": "g0sF84BwX841"
   },
   "source": [
    "### (2 балла) Обучите несколько моделей, посмотрите на метрики.\n",
    "Как модели точно возьмите LogisticRegression, KNN и константу, можете придумать еще какие-нибудь.\n",
    "\n",
    "Как метрики точно возьмите accuracy, precision, recall, f1, roc_auc. Постройте ROC-кривую."
   ]
  },
  {
   "cell_type": "code",
   "execution_count": 22,
   "metadata": {
    "ExecuteTime": {
     "end_time": "2022-04-28T19:47:44.411133Z",
     "start_time": "2022-04-28T19:46:54.359186Z"
    },
    "id": "KvzSiQ2dX842"
   },
   "outputs": [],
   "source": [
    "log_reg = LogisticRegression(max_iter=1000)\n",
    "log_reg.fit(X_train, y_train)\n",
    "y_pred_log_reg = log_reg.predict(X_test)\n",
    "y_pred_proba_log_reg = log_reg.predict_proba(X_test)\n",
    "\n",
    "y_pred_const = np.zeros(len(X_test))\n",
    "\n",
    "knn = KNeighborsClassifier(n_neighbors=3, n_jobs=-1)\n",
    "knn.fit(X_train[:10000], y_train[:10000])  # обучим по первым 10000, а то слишком долго\n",
    "y_pred_knn = knn.predict(X_test)\n",
    "y_pred_proba_knn = knn.predict_proba(X_test)"
   ]
  },
  {
   "cell_type": "code",
   "execution_count": 23,
   "metadata": {
    "ExecuteTime": {
     "end_time": "2022-04-28T19:47:45.522707Z",
     "start_time": "2022-04-28T19:47:45.152617Z"
    }
   },
   "outputs": [
    {
     "name": "stdout",
     "output_type": "stream",
     "text": [
      "Accuracy const = 0.9982795547909132\n",
      "Accuracy log_reg = 0.9988939995084443\n",
      "Accuracy KNN = 0.9982444436641972\n",
      "Precision const = 0.0\n",
      "Precision log_reg = 0.7868852459016393\n",
      "Precision KNN = 0.3333333333333333\n",
      "Recall const = 0.0\n",
      "Recall log_reg = 0.4897959183673469\n",
      "Recall KNN = 0.02040816326530612\n",
      "F1-score const = 0.0\n",
      "F1-score log_reg = 0.6037735849056604\n",
      "F1-score KNN = 0.03846153846153846\n",
      "ROC-AUC log_reg = 0.9487753810021475\n",
      "ROC-AUC KNN = 0.5243111383551732\n"
     ]
    }
   ],
   "source": [
    "print(f'Accuracy const = {accuracy_score(y_test, y_pred_const)}')\n",
    "print(f'Accuracy log_reg = {accuracy_score(y_test, y_pred_log_reg)}')\n",
    "print(f'Accuracy KNN = {accuracy_score(y_test, y_pred_knn)}')\n",
    "print(f'Precision const = {precision_score(y_test, y_pred_const)}')\n",
    "print(f'Precision log_reg = {precision_score(y_test, y_pred_log_reg)}')\n",
    "print(f'Precision KNN = {precision_score(y_test, y_pred_knn)}')\n",
    "print(f'Recall const = {recall_score(y_test, y_pred_const)}')\n",
    "print(f'Recall log_reg = {recall_score(y_test, y_pred_log_reg)}')\n",
    "print(f'Recall KNN = {recall_score(y_test, y_pred_knn)}')\n",
    "print(f'F1-score const = {f1_score(y_test, y_pred_const)}')\n",
    "print(f'F1-score log_reg = {f1_score(y_test, y_pred_log_reg)}')\n",
    "print(f'F1-score KNN = {f1_score(y_test, y_pred_knn)}')\n",
    "print(f'ROC-AUC log_reg = {roc_auc_score(y_test, y_pred_proba_log_reg[:, 1])}')\n",
    "print(f'ROC-AUC KNN = {roc_auc_score(y_test, y_pred_proba_knn[:, 1])}')"
   ]
  },
  {
   "cell_type": "code",
   "execution_count": 24,
   "metadata": {
    "ExecuteTime": {
     "end_time": "2022-04-28T19:47:46.861735Z",
     "start_time": "2022-04-28T19:47:46.280709Z"
    },
    "id": "wfmyaxXlX842"
   },
   "outputs": [
    {
     "data": {
      "image/png": "[encoded data removed]",
      "text/plain": [
       "<Figure size 504x504 with 1 Axes>"
      ]
     },
     "metadata": {
      "needs_background": "light"
     },
     "output_type": "display_data"
    }
   ],
   "source": [
    "plt.figure(figsize=(7, 7))\n",
    "fpr, tpr, thresholds = roc_curve(y_test, y_pred_proba_log_reg[:, 1])\n",
    "plt.plot(fpr, tpr, 'b', linewidth=3)\n",
    "plt.plot([0, 1], [0, 1], 'k--')\n",
    "plt.plot([0, 0], [0, 1], 'k')\n",
    "plt.plot([1, 1], [0, 1], 'k')\n",
    "plt.plot([0, 1], [0, 0], 'k')\n",
    "plt.plot([0, 1], [1, 1], 'k')\n",
    "plt.xlabel('False positive rate')\n",
    "plt.ylabel('True positive rate')\n",
    "plt.xlim((0, 1))\n",
    "plt.ylim((0, 1))\n",
    "plt.axis('equal')\n",
    "plt.title('ROC curve for log-reg')\n",
    "plt.show()"
   ]
  },
  {
   "cell_type": "markdown",
   "metadata": {
    "id": "36uJcnAmX842"
   },
   "source": [
    "### (1 балл) Выберите одну метрику, которую вы будете максимизировать\n",
    "\n",
    "Представьте, что вы решаете задачу автоматического поиска мошеннических транзакций, чтобы ваш робот автоматически банил пользователей, который их осуществляют.\n",
    "\n",
    "Обоснуйте свой выбор."
   ]
  },
  {
   "cell_type": "markdown",
   "metadata": {
    "id": "W2Um66P_X843"
   },
   "source": [
    "Важно вовремя предотвратить мошенническую транзакцию. Если мы ошибемся и признаем нормальную транзакцию мошеннической, это не так страшно, как пропустить реально мошенническую. Поэтому выберем метрику <b>recall. "
   ]
  },
  {
   "cell_type": "markdown",
   "metadata": {
    "id": "vwCvNArhX843"
   },
   "source": [
    "### (2 балла) Переберите гиперпараметры разных моделей, попытайтесь добиться лучшего результата по этой метрике\n",
    "\n",
    "Постройте график для каждого перебора, сделайте красивый отчет (не надо просто говорить \"я решил выбрать 2, 0.7 и 6, так не пойдет\".\n",
    "\n",
    "Можно преобразовывать датасет, преобразовывать, добавлять, удалять фичи, всё что угодно.\n",
    "\n",
    "Отсутствие результата тоже результат (вдруг вы перебрали кучу вещей, а лучший все еще самый первый запуск, главное что перебрали)."
   ]
  },
  {
   "cell_type": "markdown",
   "metadata": {},
   "source": [
    "Попробуем штрафовать за неопределенный акт мошенничества больше. Сильно загружать наших сотрудников не хотим, поэтому будем следить и за precision (ну и за f1-score тоже тогда) "
   ]
  },
  {
   "cell_type": "code",
   "execution_count": 25,
   "metadata": {
    "ExecuteTime": {
     "end_time": "2022-04-28T19:50:08.858190Z",
     "start_time": "2022-04-28T19:48:08.527062Z"
    },
    "id": "HsoAD_YJX844"
   },
   "outputs": [],
   "source": [
    "precision_results = []\n",
    "recall_results = []\n",
    "f1_results = []\n",
    "\n",
    "for first_weight in range(0, 20):\n",
    "    log_reg = LogisticRegression(class_weight={0: 1, 1: first_weight}, max_iter=1000)\n",
    "    log_reg.fit(X_train, y_train)\n",
    "    y_pred = log_reg.predict(X_test)\n",
    "    \n",
    "    precision_results.append(precision_score(y_test, y_pred))\n",
    "    recall_results.append(recall_score(y_test, y_pred))\n",
    "    f1_results.append(f1_score(y_test, y_pred))"
   ]
  },
  {
   "cell_type": "code",
   "execution_count": 26,
   "metadata": {
    "ExecuteTime": {
     "end_time": "2022-04-28T19:50:09.890508Z",
     "start_time": "2022-04-28T19:50:09.596105Z"
    }
   },
   "outputs": [
    {
     "data": {
      "image/png": "[encoded data removed]",
      "text/plain": [
       "<Figure size 1080x720 with 1 Axes>"
      ]
     },
     "metadata": {
      "needs_background": "light"
     },
     "output_type": "display_data"
    }
   ],
   "source": [
    "plt.figure(figsize=(15, 10))\n",
    "\n",
    "plt.plot(precision_results)\n",
    "plt.plot(recall_results)\n",
    "plt.plot(f1_results)\n",
    "\n",
    "plt.legend(['precision', 'recall', 'F1'])\n",
    "plt.xticks(list(range(1, 19)))\n",
    "plt.ylabel('Score', fontsize=20)\n",
    "plt.xlabel('Weight', fontsize=20)\n",
    "plt.title('Качество в зависимости от веса в метрике', fontsize=25)\n",
    "\n",
    "plt.show()"
   ]
  },
  {
   "cell_type": "markdown",
   "metadata": {},
   "source": [
    "Вес 8 неплохо смотрится: и recall сносный, и precision не просядает - возьмем его."
   ]
  },
  {
   "cell_type": "code",
   "execution_count": 32,
   "metadata": {
    "ExecuteTime": {
     "end_time": "2022-04-28T19:50:47.825056Z",
     "start_time": "2022-04-28T19:50:40.314165Z"
    },
    "id": "ivJC_TwcX844"
   },
   "outputs": [],
   "source": [
    "best_weight = 8\n",
    "log_reg = LogisticRegression(class_weight={0: 1, 1: best_weight}, max_iter=1000)\n",
    "log_reg.fit(X_train, y_train)\n",
    "y_pred_log_reg = log_reg.predict(X_test)\n",
    "y_pred_proba_log_reg = log_reg.predict_proba(X_test)"
   ]
  },
  {
   "cell_type": "code",
   "execution_count": 33,
   "metadata": {
    "ExecuteTime": {
     "end_time": "2022-04-28T19:50:48.458657Z",
     "start_time": "2022-04-28T19:50:48.366892Z"
    },
    "id": "IaYzEMRXX844"
   },
   "outputs": [
    {
     "name": "stdout",
     "output_type": "stream",
     "text": [
      "Accuracy log_reg = 0.9991046662687406\n",
      "Precision log_reg = 0.7326732673267327\n",
      "Recall log_reg = 0.7551020408163265\n",
      "F1-score log_reg = 0.743718592964824\n",
      "ROC-AUC log_reg = 0.9624706065600129\n"
     ]
    }
   ],
   "source": [
    "print(f'Accuracy log_reg = {accuracy_score(y_test, y_pred_log_reg)}')\n",
    "print(f'Precision log_reg = {precision_score(y_test, y_pred_log_reg)}')\n",
    "print(f'Recall log_reg = {recall_score(y_test, y_pred_log_reg)}')\n",
    "print(f'F1-score log_reg = {f1_score(y_test, y_pred_log_reg)}')\n",
    "print(f'ROC-AUC log_reg = {roc_auc_score(y_test, y_pred_proba_log_reg[:, 1])}')"
   ]
  },
  {
   "cell_type": "code",
   "execution_count": 34,
   "metadata": {
    "ExecuteTime": {
     "end_time": "2022-04-28T19:50:48.970310Z",
     "start_time": "2022-04-28T19:50:48.953970Z"
    }
   },
   "outputs": [
    {
     "name": "stdout",
     "output_type": "stream",
     "text": [
      "Коэффициент при Time = -0.00005\n"
     ]
    }
   ],
   "source": [
    "print(f'Коэффициент при Time = {log_reg.coef_[0][0]:.5f}')"
   ]
  },
  {
   "cell_type": "markdown",
   "metadata": {},
   "source": [
    "Метрики реально лучше, чем без best_weight. Попробуем еще выкинуть из признаков Time, который, судя по коэффициентам, не очень помогает регрессии (более сложной модели он, может быть, и помог бы)."
   ]
  },
  {
   "cell_type": "code",
   "execution_count": 35,
   "metadata": {
    "ExecuteTime": {
     "end_time": "2022-04-28T19:51:09.073823Z",
     "start_time": "2022-04-28T19:50:49.502934Z"
    }
   },
   "outputs": [],
   "source": [
    "log_reg = LogisticRegression(class_weight={0: 1, 1: best_weight}, max_iter=1000)\n",
    "log_reg.fit(X_train.drop('Time', axis=1), y_train)\n",
    "y_pred_log_reg = log_reg.predict(X_test.drop('Time', axis=1))\n",
    "y_pred_proba_log_reg = log_reg.predict_proba(X_test.drop('Time', axis=1))"
   ]
  },
  {
   "cell_type": "code",
   "execution_count": 36,
   "metadata": {
    "ExecuteTime": {
     "end_time": "2022-04-28T19:51:09.728784Z",
     "start_time": "2022-04-28T19:51:09.647334Z"
    }
   },
   "outputs": [
    {
     "name": "stdout",
     "output_type": "stream",
     "text": [
      "Accuracy log_reg = 0.9993504441557529\n",
      "Precision log_reg = 0.8144329896907216\n",
      "Recall log_reg = 0.8061224489795918\n",
      "F1-score log_reg = 0.8102564102564104\n",
      "ROC-AUC log_reg = 0.9781499790405752\n"
     ]
    }
   ],
   "source": [
    "print(f'Accuracy log_reg = {accuracy_score(y_test, y_pred_log_reg)}')\n",
    "print(f'Precision log_reg = {precision_score(y_test, y_pred_log_reg)}')\n",
    "print(f'Recall log_reg = {recall_score(y_test, y_pred_log_reg)}')\n",
    "print(f'F1-score log_reg = {f1_score(y_test, y_pred_log_reg)}')\n",
    "print(f'ROC-AUC log_reg = {roc_auc_score(y_test, y_pred_proba_log_reg[:, 1])}')"
   ]
  },
  {
   "cell_type": "markdown",
   "metadata": {},
   "source": [
    "Все метрики действительно улучшились. Ну и в качестве бонуса - ROC-AUC."
   ]
  },
  {
   "cell_type": "code",
   "execution_count": 37,
   "metadata": {
    "ExecuteTime": {
     "end_time": "2022-04-28T19:51:10.336974Z",
     "start_time": "2022-04-28T19:51:10.215358Z"
    }
   },
   "outputs": [
    {
     "data": {
      "image/png": "[encoded data removed]",
      "text/plain": [
       "<Figure size 504x504 with 1 Axes>"
      ]
     },
     "metadata": {
      "needs_background": "light"
     },
     "output_type": "display_data"
    }
   ],
   "source": [
    "plt.figure(figsize=(7, 7))\n",
    "fpr, tpr, thresholds = roc_curve(y_test, y_pred_proba_log_reg[:, 1])\n",
    "plt.plot(fpr, tpr, 'b', linewidth=3)\n",
    "plt.plot([0, 1], [0, 1], 'k--')\n",
    "plt.plot([0, 0], [0, 1], 'k')\n",
    "plt.plot([1, 1], [0, 1], 'k')\n",
    "plt.plot([0, 1], [0, 0], 'k')\n",
    "plt.plot([0, 1], [1, 1], 'k')\n",
    "plt.xlabel('False positive rate')\n",
    "plt.ylabel('True positive rate')\n",
    "plt.xlim((0, 1))\n",
    "plt.ylim((0, 1))\n",
    "plt.axis('equal')\n",
    "plt.title('ROC curve for log-reg')\n",
    "plt.show()"
   ]
  },
  {
   "cell_type": "markdown",
   "metadata": {
    "id": "obrEYJsKX844"
   },
   "source": [
    "# 2 - Небинарная классификация на вашем датасете (суммарно 6 баллов)"
   ]
  },
  {
   "cell_type": "markdown",
   "metadata": {
    "id": "-7NAaHlWX845"
   },
   "source": [
    "### (2 балла) Выберите какой-нибудь интересный вам датасет, скачайте его и считайте данные\n",
    "\n",
    "Творческое задание - найти в интернете (или собрать свой даже) датасет, сохранить его в файл, и загрузить сюда.\n",
    "\n",
    "Требования:\n",
    "\n",
    "- он должен быть немаленький (хотя бы 500 объектов, лучше больше)\n",
    "- он должен быть интересный\n",
    "- таргет должен быть небинарным классом\n",
    "\n",
    "Минус балл, если ваш датасет с кем-нибудь повторится."
   ]
  },
  {
   "cell_type": "markdown",
   "metadata": {},
   "source": [
    "Будем определять класс объекта: галактика, звезда или квазар."
   ]
  },
  {
   "cell_type": "code",
   "execution_count": 38,
   "metadata": {
    "ExecuteTime": {
     "end_time": "2022-04-28T19:51:21.827137Z",
     "start_time": "2022-04-28T19:51:21.608001Z"
    },
    "id": "PIjuTydTX845"
   },
   "outputs": [],
   "source": [
    "df = pd.read_csv('star_classification.csv')"
   ]
  },
  {
   "cell_type": "code",
   "execution_count": 39,
   "metadata": {
    "ExecuteTime": {
     "end_time": "2022-04-28T19:51:22.311543Z",
     "start_time": "2022-04-28T19:51:22.234205Z"
    },
    "id": "AiWHovmIX845"
   },
   "outputs": [
    {
     "data": {
      "text/html": [
       "<div>\n",
       "<style scoped>\n",
       "    .dataframe tbody tr th:only-of-type {\n",
       "        vertical-align: middle;\n",
       "    }\n",
       "\n",
       "    .dataframe tbody tr th {\n",
       "        vertical-align: top;\n",
       "    }\n",
       "\n",
       "    .dataframe thead th {\n",
       "        text-align: right;\n",
       "    }\n",
       "</style>\n",
       "<table border=\"1\" class=\"dataframe\">\n",
       "  <thead>\n",
       "    <tr style=\"text-align: right;\">\n",
       "      <th></th>\n",
       "      <th>u</th>\n",
       "      <th>g</th>\n",
       "      <th>r</th>\n",
       "      <th>i</th>\n",
       "      <th>z</th>\n",
       "      <th>cam_col</th>\n",
       "      <th>redshift</th>\n",
       "    </tr>\n",
       "  </thead>\n",
       "  <tbody>\n",
       "    <tr>\n",
       "      <th>0</th>\n",
       "      <td>23.87882</td>\n",
       "      <td>22.27530</td>\n",
       "      <td>20.39501</td>\n",
       "      <td>19.16573</td>\n",
       "      <td>18.79371</td>\n",
       "      <td>2</td>\n",
       "      <td>0.634794</td>\n",
       "    </tr>\n",
       "    <tr>\n",
       "      <th>1</th>\n",
       "      <td>24.77759</td>\n",
       "      <td>22.83188</td>\n",
       "      <td>22.58444</td>\n",
       "      <td>21.16812</td>\n",
       "      <td>21.61427</td>\n",
       "      <td>5</td>\n",
       "      <td>0.779136</td>\n",
       "    </tr>\n",
       "    <tr>\n",
       "      <th>2</th>\n",
       "      <td>25.26307</td>\n",
       "      <td>22.66389</td>\n",
       "      <td>20.60976</td>\n",
       "      <td>19.34857</td>\n",
       "      <td>18.94827</td>\n",
       "      <td>2</td>\n",
       "      <td>0.644195</td>\n",
       "    </tr>\n",
       "    <tr>\n",
       "      <th>3</th>\n",
       "      <td>22.13682</td>\n",
       "      <td>23.77656</td>\n",
       "      <td>21.61162</td>\n",
       "      <td>20.50454</td>\n",
       "      <td>19.25010</td>\n",
       "      <td>3</td>\n",
       "      <td>0.932346</td>\n",
       "    </tr>\n",
       "    <tr>\n",
       "      <th>4</th>\n",
       "      <td>19.43718</td>\n",
       "      <td>17.58028</td>\n",
       "      <td>16.49747</td>\n",
       "      <td>15.97711</td>\n",
       "      <td>15.54461</td>\n",
       "      <td>3</td>\n",
       "      <td>0.116123</td>\n",
       "    </tr>\n",
       "    <tr>\n",
       "      <th>...</th>\n",
       "      <td>...</td>\n",
       "      <td>...</td>\n",
       "      <td>...</td>\n",
       "      <td>...</td>\n",
       "      <td>...</td>\n",
       "      <td>...</td>\n",
       "      <td>...</td>\n",
       "    </tr>\n",
       "    <tr>\n",
       "      <th>99995</th>\n",
       "      <td>22.16759</td>\n",
       "      <td>22.97586</td>\n",
       "      <td>21.90404</td>\n",
       "      <td>21.30548</td>\n",
       "      <td>20.73569</td>\n",
       "      <td>2</td>\n",
       "      <td>0.000000</td>\n",
       "    </tr>\n",
       "    <tr>\n",
       "      <th>99996</th>\n",
       "      <td>22.69118</td>\n",
       "      <td>22.38628</td>\n",
       "      <td>20.45003</td>\n",
       "      <td>19.75759</td>\n",
       "      <td>19.41526</td>\n",
       "      <td>1</td>\n",
       "      <td>0.404895</td>\n",
       "    </tr>\n",
       "    <tr>\n",
       "      <th>99997</th>\n",
       "      <td>21.16916</td>\n",
       "      <td>19.26997</td>\n",
       "      <td>18.20428</td>\n",
       "      <td>17.69034</td>\n",
       "      <td>17.35221</td>\n",
       "      <td>4</td>\n",
       "      <td>0.143366</td>\n",
       "    </tr>\n",
       "    <tr>\n",
       "      <th>99998</th>\n",
       "      <td>25.35039</td>\n",
       "      <td>21.63757</td>\n",
       "      <td>19.91386</td>\n",
       "      <td>19.07254</td>\n",
       "      <td>18.62482</td>\n",
       "      <td>4</td>\n",
       "      <td>0.455040</td>\n",
       "    </tr>\n",
       "    <tr>\n",
       "      <th>99999</th>\n",
       "      <td>22.62171</td>\n",
       "      <td>21.79745</td>\n",
       "      <td>20.60115</td>\n",
       "      <td>20.00959</td>\n",
       "      <td>19.28075</td>\n",
       "      <td>4</td>\n",
       "      <td>0.542944</td>\n",
       "    </tr>\n",
       "  </tbody>\n",
       "</table>\n",
       "<p>100000 rows × 7 columns</p>\n",
       "</div>"
      ],
      "text/plain": [
       "              u         g         r         i         z  cam_col  redshift\n",
       "0      23.87882  22.27530  20.39501  19.16573  18.79371        2  0.634794\n",
       "1      24.77759  22.83188  22.58444  21.16812  21.61427        5  0.779136\n",
       "2      25.26307  22.66389  20.60976  19.34857  18.94827        2  0.644195\n",
       "3      22.13682  23.77656  21.61162  20.50454  19.25010        3  0.932346\n",
       "4      19.43718  17.58028  16.49747  15.97711  15.54461        3  0.116123\n",
       "...         ...       ...       ...       ...       ...      ...       ...\n",
       "99995  22.16759  22.97586  21.90404  21.30548  20.73569        2  0.000000\n",
       "99996  22.69118  22.38628  20.45003  19.75759  19.41526        1  0.404895\n",
       "99997  21.16916  19.26997  18.20428  17.69034  17.35221        4  0.143366\n",
       "99998  25.35039  21.63757  19.91386  19.07254  18.62482        4  0.455040\n",
       "99999  22.62171  21.79745  20.60115  20.00959  19.28075        4  0.542944\n",
       "\n",
       "[100000 rows x 7 columns]"
      ]
     },
     "execution_count": 39,
     "metadata": {},
     "output_type": "execute_result"
    }
   ],
   "source": [
    "X = df.drop(['class'], axis=1)\n",
    "X.drop(['alpha', 'delta', 'obj_ID', 'run_ID', 'rerun_ID', 'field_ID',\n",
    "        'spec_obj_ID', 'MJD', 'plate', 'fiber_ID'], axis=1, inplace=True)  # уберем технические колонки\n",
    "y = df['class']\n",
    "\n",
    "le = LabelEncoder()\n",
    "le.fit(y)\n",
    "y = le.transform(y)\n",
    "\n",
    "X_train, X_test, y_train, y_test = train_test_split(X, y, test_size=0.2, random_state=42)\n",
    "X"
   ]
  },
  {
   "cell_type": "markdown",
   "metadata": {
    "id": "V2B0d_WzX845"
   },
   "source": [
    "### (2 балла) Обучите несколько моделей, посмотрите на метрики.\n",
    "Как модели точно возьмите LogisticRegression, KNN и константу, можете придумать еще какие-нибудь.\n",
    "\n",
    "Как метрики точно возьмите accuracy, разные усреднения precision, recall и f1."
   ]
  },
  {
   "cell_type": "code",
   "execution_count": 40,
   "metadata": {
    "ExecuteTime": {
     "end_time": "2022-04-28T19:53:40.566803Z",
     "start_time": "2022-04-28T19:51:24.148375Z"
    },
    "id": "F6x_p6k2X845"
   },
   "outputs": [],
   "source": [
    "log_reg = LogisticRegression(max_iter=1000)\n",
    "log_reg.fit(X_train, y_train)\n",
    "y_pred_log_reg = log_reg.predict(X_test)\n",
    "y_pred_proba_log_reg = log_reg.predict_proba(X_test)\n",
    "\n",
    "y_pred_const = np.zeros(len(X_test))\n",
    "\n",
    "knn = KNeighborsClassifier(n_neighbors=3)\n",
    "knn.fit(X_train, y_train)\n",
    "y_pred_knn = knn.predict(X_test)\n",
    "y_pred_proba_knn = knn.predict_proba(X_test)"
   ]
  },
  {
   "cell_type": "code",
   "execution_count": 41,
   "metadata": {
    "ExecuteTime": {
     "end_time": "2022-04-28T19:53:41.658557Z",
     "start_time": "2022-04-28T19:53:41.537285Z"
    },
    "id": "ZpOqqNTfX846"
   },
   "outputs": [
    {
     "name": "stdout",
     "output_type": "stream",
     "text": [
      "Accuracy const = 0.593\n",
      "Accuracy log_reg = 0.95145\n",
      "Accuracy KNN = 0.93265\n",
      "\n",
      "Precision macro log_reg = 0.9460360664727286\n",
      "Precision macro KNN = 0.9289340153071027\n",
      "\n",
      "Recall macro log_reg = 0.9445897299358678\n",
      "Recall macro KNN = 0.9230373042163248\n",
      "\n",
      "F1-score macro log_reg = 0.9445977909227906\n",
      "F1-score macro KNN = 0.9256244684319775\n",
      "\n",
      "Precision micro log_reg = 0.95145\n",
      "Precision micro KNN = 0.93265\n",
      "\n",
      "Recall micro log_reg = 0.95145\n",
      "Recall micro KNN = 0.93265\n",
      "\n",
      "F1-score micro log_reg = 0.95145\n",
      "F1-score micro KNN = 0.93265\n"
     ]
    }
   ],
   "source": [
    "print(f'Accuracy const = {accuracy_score(y_test, y_pred_const)}')\n",
    "print(f'Accuracy log_reg = {accuracy_score(y_test, y_pred_log_reg)}')\n",
    "print(f'Accuracy KNN = {accuracy_score(y_test, y_pred_knn)}')\n",
    "print()\n",
    "\n",
    "print('Precision macro log_reg =', precision_score(y_test, y_pred_log_reg, average='macro'))\n",
    "print('Precision macro KNN =', precision_score(y_test, y_pred_knn, average='macro'))\n",
    "print()\n",
    "print('Recall macro log_reg =', recall_score(y_test, y_pred_log_reg, average='macro'))\n",
    "print('Recall macro KNN =', recall_score(y_test, y_pred_knn, average='macro'))\n",
    "print()\n",
    "print('F1-score macro log_reg =', f1_score(y_test, y_pred_log_reg, average='macro'))\n",
    "print('F1-score macro KNN =', f1_score(y_test, y_pred_knn, average='macro'))\n",
    "print()\n",
    "\n",
    "print('Precision micro log_reg =', precision_score(y_test, y_pred_log_reg, average='micro'))\n",
    "print('Precision micro KNN =', precision_score(y_test, y_pred_knn, average='micro'))\n",
    "print()\n",
    "print('Recall micro log_reg =', recall_score(y_test, y_pred_log_reg, average='micro'))\n",
    "print('Recall micro KNN =', recall_score(y_test, y_pred_knn, average='micro'))\n",
    "print()\n",
    "print('F1-score micro log_reg =', f1_score(y_test, y_pred_log_reg, average='micro'))\n",
    "print('F1-score micro KNN =', f1_score(y_test, y_pred_knn, average='micro'))"
   ]
  },
  {
   "cell_type": "markdown",
   "metadata": {},
   "source": [
    "По всем метрикам log-reg немного лучше, поэтому будет улучшать его."
   ]
  },
  {
   "cell_type": "markdown",
   "metadata": {
    "id": "fJdpJYBVX846"
   },
   "source": [
    "### (2 балла) Выберите метрику, которую вы хотите максимизировать. Переберите гиперпараметры, постарайтесь найти модель, которая максимизирует эту метрику.\n",
    "\n",
    "Обоснуйте свой выбор. Напишите красивый отчет с графиками. Добились ли вы результатов, которых хотели добиться для этого датасета?"
   ]
  },
  {
   "cell_type": "markdown",
   "metadata": {},
   "source": [
    "Будем улучшать accuracy. Поскольку особых требований к метрике у нас нет, будем улучшать основную."
   ]
  },
  {
   "cell_type": "code",
   "execution_count": 49,
   "metadata": {
    "ExecuteTime": {
     "end_time": "2022-04-28T21:11:44.894149Z",
     "start_time": "2022-04-28T21:01:27.891179Z"
    },
    "id": "6sBe7swUX846"
   },
   "outputs": [
    {
     "name": "stderr",
     "output_type": "stream",
     "text": [
      "100%|██████████████████████████████████████████████████████████████████████████████████| 19/19 [10:16<00:00, 32.47s/it]\n"
     ]
    }
   ],
   "source": [
    "from tqdm import tqdm\n",
    "accuracy_results = []\n",
    "Cs = np.arange(0, 150, 8)\n",
    "\n",
    "for C in tqdm(Cs):\n",
    "    log_reg = LogisticRegression(C = C, max_iter=1000, n_jobs=-1)\n",
    "    log_reg.fit(X_train, y_train)\n",
    "    y_pred = log_reg.predict(X_test)\n",
    "    \n",
    "    accuracy_results.append(accuracy_score(y_test, y_pred))"
   ]
  },
  {
   "cell_type": "code",
   "execution_count": 51,
   "metadata": {
    "ExecuteTime": {
     "end_time": "2022-04-28T21:12:17.629873Z",
     "start_time": "2022-04-28T21:12:17.486749Z"
    }
   },
   "outputs": [
    {
     "data": {
      "image/png": "[encoded data removed]",
      "text/plain": [
       "<Figure size 1080x720 with 1 Axes>"
      ]
     },
     "metadata": {
      "needs_background": "light"
     },
     "output_type": "display_data"
    }
   ],
   "source": [
    "plt.figure(figsize=(15, 10))\n",
    "\n",
    "plt.plot(Cs[2:], accuracy_results[2:])\n",
    "\n",
    "plt.legend(['accuracy'])\n",
    "plt.ylabel('Качество', fontsize=20)\n",
    "plt.xlabel('Коэф. регуляризации', fontsize=20)\n",
    "plt.title('Качество в зависимости от коэф. регуляризации', fontsize=25)\n",
    "\n",
    "plt.show()"
   ]
  },
  {
   "cell_type": "code",
   "execution_count": 52,
   "metadata": {
    "ExecuteTime": {
     "end_time": "2022-04-28T21:12:52.750618Z",
     "start_time": "2022-04-28T21:12:22.931267Z"
    }
   },
   "outputs": [
    {
     "name": "stdout",
     "output_type": "stream",
     "text": [
      "Accuracy log_reg = 0.9593\n"
     ]
    }
   ],
   "source": [
    "log_reg = LogisticRegression(C=Cs[np.argmax(accuracy_results)], max_iter=1000)\n",
    "log_reg.fit(X_train, y_train)\n",
    "y_pred_log_reg = log_reg.predict(X_test)\n",
    "\n",
    "print(f'Accuracy log_reg = {accuracy_score(y_test, y_pred_log_reg)}')"
   ]
  },
  {
   "cell_type": "markdown",
   "metadata": {},
   "source": [
    "Результатов добились действительно неплохих, достаточно точно различаем объекты. Ура!"
   ]
  }
 ],
 "metadata": {
  "colab": {
   "name": "Task 4.ipynb",
   "provenance": []
  },
  "kernelspec": {
   "display_name": "Python 3 (ipykernel)",
   "language": "python",
   "name": "python3"
  },
  "language_info": {
   "codemirror_mode": {
    "name": "ipython",
    "version": 3
   },
   "file_extension": ".py",
   "mimetype": "text/x-python",
   "name": "python",
   "nbconvert_exporter": "python",
   "pygments_lexer": "ipython3",
   "version": "3.9.7"
  },
  "toc": {
   "base_numbering": 1,
   "nav_menu": {},
   "number_sections": true,
   "sideBar": true,
   "skip_h1_title": false,
   "title_cell": "Table of Contents",
   "title_sidebar": "Contents",
   "toc_cell": false,
   "toc_position": {},
   "toc_section_display": true,
   "toc_window_display": false
  },
  "varInspector": {
   "cols": {
    "lenName": 16,
    "lenType": 16,
    "lenVar": 40
   },
   "kernels_config": {
    "python": {
     "delete_cmd_postfix": "",
     "delete_cmd_prefix": "del ",
     "library": "var_list.py",
     "varRefreshCmd": "print(var_dic_list())"
    },
    "r": {
     "delete_cmd_postfix": ") ",
     "delete_cmd_prefix": "rm(",
     "library": "var_list.r",
     "varRefreshCmd": "cat(var_dic_list()) "
    }
   },
   "types_to_exclude": [
    "module",
    "function",
    "builtin_function_or_method",
    "instance",
    "_Feature"
   ],
   "window_display": false
  }
 },
 "nbformat": 4,
 "nbformat_minor": 1
}
