{
 "cells": [
  {
   "cell_type": "markdown",
   "metadata": {
    "id": "EADmNKm_ucFI"
   },
   "source": [
    "## Homework"
   ]
  },
  {
   "cell_type": "markdown",
   "metadata": {
    "id": "UBAI5LS2xBSm"
   },
   "source": [
    "В этой домашней работе вы будете предсказывать стоимость домов по их характеристикам.\n",
    "\n",
    "Метрика качества: `RMSE`\n",
    "\n",
    "Оценивание:\n",
    "* Baseline - 2 балла\n",
    "* Feature Engineering - 2 балла\n",
    "* Model Selection - 3 балла\n",
    "* Ensemble v.1 - 3 балла\n",
    "* (*) Ensemble v.2 - дополнительно, 2 балла"
   ]
  },
  {
   "cell_type": "markdown",
   "metadata": {
    "id": "aBZhr_dw6HAn"
   },
   "source": [
    "### Описание датасета\n",
    "\n",
    "Короткое описание данных:\n",
    "```\n",
    "price: sale price (this is the target variable)\n",
    "id: transaction id\n",
    "timestamp: date of transaction\n",
    "full_sq: total area in square meters, including loggias, balconies and other non-residential areas\n",
    "life_sq: living area in square meters, excluding loggias, balconies and other non-residential areas\n",
    "floor: for apartments, floor of the building\n",
    "max_floor: number of floors in the building\n",
    "material: wall material\n",
    "build_year: year built\n",
    "num_room: number of living rooms\n",
    "kitch_sq: kitchen area\n",
    "state: apartment condition\n",
    "product_type: owner-occupier purchase or investment\n",
    "sub_area: name of the district\n",
    "\n",
    "The dataset also includes a collection of features about each property's surrounding neighbourhood, and some features that are constant across each sub area (known as a Raion). Most of the feature names are self explanatory, with the following notes. See below for a complete list.\n",
    "\n",
    "full_all: subarea population\n",
    "male_f, female_f: subarea population by gender\n",
    "young_*: population younger than working age\n",
    "work_*: working-age population\n",
    "ekder_*: retirement-age population\n",
    "n_m_{all|male|female}: population between n and m years old\n",
    "build_count_*: buildings in the subarea by construction type or year\n",
    "x_count_500: the number of x within 500m of the property\n",
    "x_part_500: the share of x within 500m of the property\n",
    "_sqm_: square meters\n",
    "cafe_count_d_price_p: number of cafes within d meters of the property that have an average bill under p RUB\n",
    "trc_: shopping malls\n",
    "prom_: industrial zones\n",
    "green_: green zones\n",
    "metro_: subway\n",
    "_avto_: distances by car\n",
    "mkad_: Moscow Circle Auto Road\n",
    "ttk_: Third Transport Ring\n",
    "sadovoe_: Garden Ring\n",
    "bulvar_ring_: Boulevard Ring\n",
    "kremlin_: City center\n",
    "zd_vokzaly_: Train station\n",
    "oil_chemistry_: Dirty industry\n",
    "ts_: Power plant\n",
    "```"
   ]
  },
  {
   "cell_type": "markdown",
   "metadata": {
    "id": "TOPtM_06uyqv"
   },
   "source": [
    "### Setup"
   ]
  },
  {
   "cell_type": "code",
   "execution_count": 435,
   "metadata": {
    "ExecuteTime": {
     "end_time": "2022-04-30T13:44:49.268442Z",
     "start_time": "2022-04-30T13:44:49.252874Z"
    },
    "id": "9TpHMcn3u0MV"
   },
   "outputs": [],
   "source": [
    "import pandas as pd\n",
    "from sklearn.model_selection import train_test_split\n",
    "\n",
    "import warnings\n",
    "warnings.filterwarnings(\"ignore\")"
   ]
  },
  {
   "cell_type": "code",
   "execution_count": 436,
   "metadata": {
    "ExecuteTime": {
     "end_time": "2022-04-30T13:44:50.153436Z",
     "start_time": "2022-04-30T13:44:49.759939Z"
    },
    "id": "-TLkVG3EwJzj"
   },
   "outputs": [
    {
     "data": {
      "text/html": [
       "<div>\n",
       "<style scoped>\n",
       "    .dataframe tbody tr th:only-of-type {\n",
       "        vertical-align: middle;\n",
       "    }\n",
       "\n",
       "    .dataframe tbody tr th {\n",
       "        vertical-align: top;\n",
       "    }\n",
       "\n",
       "    .dataframe thead th {\n",
       "        text-align: right;\n",
       "    }\n",
       "</style>\n",
       "<table border=\"1\" class=\"dataframe\">\n",
       "  <thead>\n",
       "    <tr style=\"text-align: right;\">\n",
       "      <th></th>\n",
       "      <th>id</th>\n",
       "      <th>timestamp</th>\n",
       "      <th>full_sq</th>\n",
       "      <th>life_sq</th>\n",
       "      <th>floor</th>\n",
       "      <th>max_floor</th>\n",
       "      <th>material</th>\n",
       "      <th>build_year</th>\n",
       "      <th>num_room</th>\n",
       "      <th>kitch_sq</th>\n",
       "      <th>...</th>\n",
       "      <th>cafe_count_5000_price_2500</th>\n",
       "      <th>cafe_count_5000_price_4000</th>\n",
       "      <th>cafe_count_5000_price_high</th>\n",
       "      <th>big_church_count_5000</th>\n",
       "      <th>church_count_5000</th>\n",
       "      <th>mosque_count_5000</th>\n",
       "      <th>leisure_count_5000</th>\n",
       "      <th>sport_count_5000</th>\n",
       "      <th>market_count_5000</th>\n",
       "      <th>price</th>\n",
       "    </tr>\n",
       "  </thead>\n",
       "  <tbody>\n",
       "    <tr>\n",
       "      <th>0</th>\n",
       "      <td>0</td>\n",
       "      <td>2014-12-26</td>\n",
       "      <td>1</td>\n",
       "      <td>1.0</td>\n",
       "      <td>1.0</td>\n",
       "      <td>1.0</td>\n",
       "      <td>1.0</td>\n",
       "      <td>1.0</td>\n",
       "      <td>1.0</td>\n",
       "      <td>1.0</td>\n",
       "      <td>...</td>\n",
       "      <td>36</td>\n",
       "      <td>7</td>\n",
       "      <td>2</td>\n",
       "      <td>15</td>\n",
       "      <td>33</td>\n",
       "      <td>1</td>\n",
       "      <td>12</td>\n",
       "      <td>75</td>\n",
       "      <td>10</td>\n",
       "      <td>15318960</td>\n",
       "    </tr>\n",
       "    <tr>\n",
       "      <th>1</th>\n",
       "      <td>1</td>\n",
       "      <td>2012-10-04</td>\n",
       "      <td>64</td>\n",
       "      <td>64.0</td>\n",
       "      <td>16.0</td>\n",
       "      <td>NaN</td>\n",
       "      <td>NaN</td>\n",
       "      <td>NaN</td>\n",
       "      <td>NaN</td>\n",
       "      <td>NaN</td>\n",
       "      <td>...</td>\n",
       "      <td>2</td>\n",
       "      <td>2</td>\n",
       "      <td>0</td>\n",
       "      <td>0</td>\n",
       "      <td>13</td>\n",
       "      <td>1</td>\n",
       "      <td>0</td>\n",
       "      <td>6</td>\n",
       "      <td>1</td>\n",
       "      <td>6080000</td>\n",
       "    </tr>\n",
       "    <tr>\n",
       "      <th>2</th>\n",
       "      <td>2</td>\n",
       "      <td>2014-02-05</td>\n",
       "      <td>83</td>\n",
       "      <td>44.0</td>\n",
       "      <td>9.0</td>\n",
       "      <td>17.0</td>\n",
       "      <td>1.0</td>\n",
       "      <td>1985.0</td>\n",
       "      <td>3.0</td>\n",
       "      <td>10.0</td>\n",
       "      <td>...</td>\n",
       "      <td>13</td>\n",
       "      <td>6</td>\n",
       "      <td>1</td>\n",
       "      <td>8</td>\n",
       "      <td>18</td>\n",
       "      <td>0</td>\n",
       "      <td>1</td>\n",
       "      <td>52</td>\n",
       "      <td>0</td>\n",
       "      <td>17000000</td>\n",
       "    </tr>\n",
       "    <tr>\n",
       "      <th>3</th>\n",
       "      <td>3</td>\n",
       "      <td>2012-07-26</td>\n",
       "      <td>71</td>\n",
       "      <td>49.0</td>\n",
       "      <td>2.0</td>\n",
       "      <td>NaN</td>\n",
       "      <td>NaN</td>\n",
       "      <td>NaN</td>\n",
       "      <td>NaN</td>\n",
       "      <td>NaN</td>\n",
       "      <td>...</td>\n",
       "      <td>0</td>\n",
       "      <td>0</td>\n",
       "      <td>0</td>\n",
       "      <td>1</td>\n",
       "      <td>3</td>\n",
       "      <td>0</td>\n",
       "      <td>2</td>\n",
       "      <td>8</td>\n",
       "      <td>2</td>\n",
       "      <td>990000</td>\n",
       "    </tr>\n",
       "    <tr>\n",
       "      <th>4</th>\n",
       "      <td>4</td>\n",
       "      <td>2014-10-29</td>\n",
       "      <td>60</td>\n",
       "      <td>42.0</td>\n",
       "      <td>9.0</td>\n",
       "      <td>9.0</td>\n",
       "      <td>1.0</td>\n",
       "      <td>1970.0</td>\n",
       "      <td>3.0</td>\n",
       "      <td>6.0</td>\n",
       "      <td>...</td>\n",
       "      <td>3</td>\n",
       "      <td>1</td>\n",
       "      <td>0</td>\n",
       "      <td>5</td>\n",
       "      <td>8</td>\n",
       "      <td>0</td>\n",
       "      <td>1</td>\n",
       "      <td>34</td>\n",
       "      <td>5</td>\n",
       "      <td>7900000</td>\n",
       "    </tr>\n",
       "  </tbody>\n",
       "</table>\n",
       "<p>5 rows × 292 columns</p>\n",
       "</div>"
      ],
      "text/plain": [
       "   id  timestamp  full_sq  life_sq  floor  max_floor  material  build_year  \\\n",
       "0   0 2014-12-26        1      1.0    1.0        1.0       1.0         1.0   \n",
       "1   1 2012-10-04       64     64.0   16.0        NaN       NaN         NaN   \n",
       "2   2 2014-02-05       83     44.0    9.0       17.0       1.0      1985.0   \n",
       "3   3 2012-07-26       71     49.0    2.0        NaN       NaN         NaN   \n",
       "4   4 2014-10-29       60     42.0    9.0        9.0       1.0      1970.0   \n",
       "\n",
       "   num_room  kitch_sq  ...  cafe_count_5000_price_2500  \\\n",
       "0       1.0       1.0  ...                          36   \n",
       "1       NaN       NaN  ...                           2   \n",
       "2       3.0      10.0  ...                          13   \n",
       "3       NaN       NaN  ...                           0   \n",
       "4       3.0       6.0  ...                           3   \n",
       "\n",
       "  cafe_count_5000_price_4000 cafe_count_5000_price_high  \\\n",
       "0                          7                          2   \n",
       "1                          2                          0   \n",
       "2                          6                          1   \n",
       "3                          0                          0   \n",
       "4                          1                          0   \n",
       "\n",
       "   big_church_count_5000  church_count_5000  mosque_count_5000  \\\n",
       "0                     15                 33                  1   \n",
       "1                      0                 13                  1   \n",
       "2                      8                 18                  0   \n",
       "3                      1                  3                  0   \n",
       "4                      5                  8                  0   \n",
       "\n",
       "   leisure_count_5000  sport_count_5000  market_count_5000     price  \n",
       "0                  12                75                 10  15318960  \n",
       "1                   0                 6                  1   6080000  \n",
       "2                   1                52                  0  17000000  \n",
       "3                   2                 8                  2    990000  \n",
       "4                   1                34                  5   7900000  \n",
       "\n",
       "[5 rows x 292 columns]"
      ]
     },
     "execution_count": 436,
     "metadata": {},
     "output_type": "execute_result"
    }
   ],
   "source": [
    "df = pd.read_csv(\"houses_data.csv\", parse_dates=[\"timestamp\"])\n",
    "useful_columns = ['life_sq', 'floor', 'max_floor', 'material', 'build_year', 'num_room', 'kitch_sq',\n",
    "                  'state', 'metro_km_walk', 'ecology']\n",
    "df.head()"
   ]
  },
  {
   "cell_type": "markdown",
   "metadata": {
    "id": "znjwH9_mx3fZ"
   },
   "source": [
    "Разделите имеющиеся у вас данные на обучающую и тестовую выборки. В качестве обучающей выборки возьмите первые 80% данных, последние 20% - тестовая выборка."
   ]
  },
  {
   "cell_type": "code",
   "execution_count": 437,
   "metadata": {
    "ExecuteTime": {
     "end_time": "2022-04-30T13:44:50.380530Z",
     "start_time": "2022-04-30T13:44:50.315242Z"
    },
    "id": "hwfNR565wMKN"
   },
   "outputs": [],
   "source": [
    "X = df.drop(['price'], axis=1)\n",
    "y = df['price']\n",
    "X_train, X_test, y_train, y_test = train_test_split(X, y, test_size=0.2, random_state=42)"
   ]
  },
  {
   "cell_type": "markdown",
   "metadata": {
    "id": "pL4dJJwZP86w"
   },
   "source": [
    "Возможно в ваших моделях вам придется указывать, какие колонки являются категориальными (например, в бустингах). Для упрощения предлагается разделить колонки."
   ]
  },
  {
   "cell_type": "code",
   "execution_count": 438,
   "metadata": {
    "ExecuteTime": {
     "end_time": "2022-04-30T13:44:50.550425Z",
     "start_time": "2022-04-30T13:44:50.475432Z"
    }
   },
   "outputs": [],
   "source": [
    "drop_columns = [\n",
    "    'id',           # May leak information\n",
    "    'timestamp',    # May leak information\n",
    "]\n",
    "cat_columns = [\n",
    "    'product_type',              #\n",
    "    'material',                  # Material of the wall\n",
    "    'state',                     # Satisfaction level\n",
    "    'sub_area',                  # District name\n",
    "    'culture_objects_top_25',    #\n",
    "    'thermal_power_plant_raion', #\n",
    "    'incineration_raion',        #\n",
    "    'oil_chemistry_raion',       #\n",
    "    'radiation_raion',           #\n",
    "    'railroad_terminal_raion',   #\n",
    "    'big_market_raion',          #\n",
    "    'nuclear_reactor_raion',     #\n",
    "    'detention_facility_raion',  #\n",
    "    'ID_metro',                  #\n",
    "    'ID_railroad_station_walk',  #\n",
    "    'ID_railroad_station_avto',  #\n",
    "    'water_1line',               #\n",
    "    'ID_big_road1',              #\n",
    "    'big_road1_1line',           #\n",
    "    'ID_big_road2',              #\n",
    "    'railroad_1line',            #\n",
    "    'ID_railroad_terminal',      #\n",
    "    'ID_bus_terminal',           #\n",
    "    'ecology',                   #\n",
    "]\n",
    "\n",
    "num_columns = list(set(X_train.columns).difference(set(cat_columns + drop_columns)))\n",
    "# Возьмем все числовые колонки без Nan и некоторые полезные колонки\n",
    "not_na_num_columns = list(X_train[num_columns].isna().sum()[X_train.isna().sum() == 0].index)\n",
    "X_train = X_train[not_na_num_columns + useful_columns]\n",
    "X_test = X_test[not_na_num_columns + useful_columns]"
   ]
  },
  {
   "cell_type": "code",
   "execution_count": 439,
   "metadata": {
    "ExecuteTime": {
     "end_time": "2022-04-30T13:44:50.566214Z",
     "start_time": "2022-04-30T13:44:50.551584Z"
    }
   },
   "outputs": [
    {
     "data": {
      "text/plain": [
       "life_sq          3267\n",
       "floor              96\n",
       "max_floor        5013\n",
       "material         5013\n",
       "build_year       7110\n",
       "num_room         5013\n",
       "kitch_sq         5013\n",
       "state            7143\n",
       "metro_km_walk      12\n",
       "ecology             0\n",
       "dtype: int64"
      ]
     },
     "execution_count": 439,
     "metadata": {},
     "output_type": "execute_result"
    }
   ],
   "source": [
    "X_train[useful_columns].isna().sum()"
   ]
  },
  {
   "cell_type": "markdown",
   "metadata": {},
   "source": [
    "**Cначала разберемся с категориальным ecology**"
   ]
  },
  {
   "cell_type": "code",
   "execution_count": 440,
   "metadata": {
    "ExecuteTime": {
     "end_time": "2022-04-30T13:44:50.736329Z",
     "start_time": "2022-04-30T13:44:50.723292Z"
    }
   },
   "outputs": [
    {
     "data": {
      "text/plain": [
       "poor            4198\n",
       "no data         3964\n",
       "good            3771\n",
       "excellent       2105\n",
       "satisfactory    1962\n",
       "Name: ecology, dtype: int64"
      ]
     },
     "execution_count": 440,
     "metadata": {},
     "output_type": "execute_result"
    }
   ],
   "source": [
    "X_train['ecology'].value_counts()"
   ]
  },
  {
   "cell_type": "code",
   "execution_count": 441,
   "metadata": {
    "ExecuteTime": {
     "end_time": "2022-04-30T13:44:50.751520Z",
     "start_time": "2022-04-30T13:44:50.737427Z"
    }
   },
   "outputs": [],
   "source": [
    "def deal_with_ecology(X_train, X_test):\n",
    " \n",
    "    def ecol_miss(value):\n",
    "        if value == 'no data':\n",
    "            return 1\n",
    "        return 0\n",
    "\n",
    "    X_train['ecology_missing'] = 0\n",
    "    X_test['ecology_missing'] = 0\n",
    "    X_train['ecology_missing'] = X_train.apply(lambda row: ecol_miss(row['ecology']), axis=1)\n",
    "    X_test['ecology_missing'] = X_test.apply(lambda row: ecol_miss(row['ecology']), axis=1)\n",
    "\n",
    "    score_to_num = {'poor': 0, 'satisfactory': 1, 'good': 2, 'excellent': 3, 'no data': 1}\n",
    "\n",
    "    X_train['ecology'] = X_train['ecology'].map(score_to_num)\n",
    "    X_test['ecology'] = X_test['ecology'].map(score_to_num)"
   ]
  },
  {
   "cell_type": "markdown",
   "metadata": {},
   "source": [
    "**Теперь отдельно с life_sq**"
   ]
  },
  {
   "cell_type": "code",
   "execution_count": 442,
   "metadata": {
    "ExecuteTime": {
     "end_time": "2022-04-30T13:44:50.767216Z",
     "start_time": "2022-04-30T13:44:50.753649Z"
    }
   },
   "outputs": [],
   "source": [
    "def deal_with_life_sq(X_train, X_test):\n",
    "\n",
    "    def life_sq_miss(value, full_sq):\n",
    "        if pd.isna(value):\n",
    "            return 0.65 * full_sq  # примерно столько в среднем жилая площадь составляет от общей\n",
    "        return value\n",
    "\n",
    "    X_train['life_sq'] = X_train.apply(lambda row: life_sq_miss(row['life_sq'], row['full_sq']), axis=1)\n",
    "    X_test['life_sq'] = X_test.apply(lambda row: life_sq_miss(row['life_sq'], row['full_sq']), axis=1)"
   ]
  },
  {
   "cell_type": "markdown",
   "metadata": {},
   "source": [
    "**Теперь с остальными**"
   ]
  },
  {
   "cell_type": "code",
   "execution_count": 443,
   "metadata": {
    "ExecuteTime": {
     "end_time": "2022-04-30T13:44:50.786796Z",
     "start_time": "2022-04-30T13:44:50.769138Z"
    }
   },
   "outputs": [],
   "source": [
    "def deal_with_others(X_train, X_test):\n",
    "    \n",
    "    def only_median(X_train, X_test, col):\n",
    "        median = X_train[col].median()\n",
    "        X_train[col].fillna(median, inplace=True)\n",
    "        X_test[col].fillna(median, inplace=True)\n",
    "\n",
    "    def miss_value(value):\n",
    "        if pd.isna(value):\n",
    "            return 1\n",
    "        return 0\n",
    "\n",
    "    def median_and_column(X_train, X_test, col):\n",
    "        X_train[col +'_missing'] = 0\n",
    "        X_test[col +'_missing'] = 0\n",
    "        X_train[col +'_missing'] = X_train.apply(lambda row: miss_value(row[col]), axis=1)\n",
    "        X_test[col +'_missing'] = X_test.apply(lambda row: miss_value(row[col]), axis=1)\n",
    "        only_median(X_train, X_test, col)\n",
    "\n",
    "\n",
    "    add_median_and_forget_about_it = ['metro_km_walk', 'floor', 'max_floor', 'num_room']\n",
    "    add_median_and_column = ['material', 'build_year', 'kitch_sq', 'state']\n",
    "\n",
    "    for col in add_median_and_forget_about_it:\n",
    "        only_median(X_train, X_test, col)\n",
    "\n",
    "    for col in add_median_and_column:\n",
    "        median_and_column(X_train, X_test, col)"
   ]
  },
  {
   "cell_type": "code",
   "execution_count": 444,
   "metadata": {
    "ExecuteTime": {
     "end_time": "2022-04-30T13:44:52.001497Z",
     "start_time": "2022-04-30T13:44:51.005209Z"
    }
   },
   "outputs": [
    {
     "data": {
      "text/plain": [
       "life_sq          0\n",
       "floor            0\n",
       "max_floor        0\n",
       "material         0\n",
       "build_year       0\n",
       "num_room         0\n",
       "kitch_sq         0\n",
       "state            0\n",
       "metro_km_walk    0\n",
       "ecology          0\n",
       "dtype: int64"
      ]
     },
     "execution_count": 444,
     "metadata": {},
     "output_type": "execute_result"
    }
   ],
   "source": [
    "def repair_features(X_train, X_test):\n",
    "    deal_with_ecology(X_train, X_test)\n",
    "    deal_with_life_sq(X_train, X_test)\n",
    "    deal_with_others(X_train, X_test)\n",
    "    \n",
    "repair_features(X_train, X_test)\n",
    "X_train[useful_columns].isna().sum()"
   ]
  },
  {
   "cell_type": "markdown",
   "metadata": {
    "id": "oiOby6hNu92W"
   },
   "source": [
    "### Baseline (2 балла)\n",
    "\n",
    "В качестве Baseline обучите `DecisionTreeRegressor` из `sklearn`."
   ]
  },
  {
   "cell_type": "code",
   "execution_count": 445,
   "metadata": {
    "ExecuteTime": {
     "end_time": "2022-04-30T13:44:53.953003Z",
     "start_time": "2022-04-30T13:44:52.071769Z"
    },
    "id": "gJIDf3kn1Wfv"
   },
   "outputs": [
    {
     "data": {
      "text/plain": [
       "DecisionTreeRegressor()"
      ]
     },
     "execution_count": 445,
     "metadata": {},
     "output_type": "execute_result"
    }
   ],
   "source": [
    "from sklearn.tree import DecisionTreeRegressor\n",
    "from sklearn.ensemble import RandomForestRegressor\n",
    "from sklearn import metrics\n",
    "\n",
    "single_tree = DecisionTreeRegressor()\n",
    "single_tree.fit(X_train, y_train)"
   ]
  },
  {
   "cell_type": "markdown",
   "metadata": {
    "id": "XUC7NFhw1X41"
   },
   "source": [
    "Проверьте качество на отложенной выборке."
   ]
  },
  {
   "cell_type": "code",
   "execution_count": 446,
   "metadata": {
    "ExecuteTime": {
     "end_time": "2022-04-30T13:44:54.038528Z",
     "start_time": "2022-04-30T13:44:54.017738Z"
    },
    "id": "O_LCiQIN1bzD"
   },
   "outputs": [
    {
     "name": "stdout",
     "output_type": "stream",
     "text": [
      "RMSE: 3858855.87\n"
     ]
    }
   ],
   "source": [
    "y_pred = single_tree.predict(X_test)\n",
    "print(f'RMSE: {metrics.mean_squared_error(y_test, y_pred, squared=False):.2f}')"
   ]
  },
  {
   "cell_type": "markdown",
   "metadata": {
    "id": "3bezBBI7u_oF"
   },
   "source": [
    "### Feature Engineering (2 балла)\n",
    "\n",
    "Часто улучшить модель можно с помощью аккуратного Feature Engineering.\n",
    "\n",
    "Добавим в модель дополнительные признаки:\n",
    "* \"Как часто в этот год и этот месяц появлились объявления\"\n",
    "* \"Как часто в этот год и эту неделю появлялись объявления\""
   ]
  },
  {
   "cell_type": "code",
   "execution_count": 447,
   "metadata": {
    "ExecuteTime": {
     "end_time": "2022-04-30T13:44:54.120644Z",
     "start_time": "2022-04-30T13:44:54.105348Z"
    },
    "id": "_cJ6SBqUKC4C"
   },
   "outputs": [],
   "source": [
    "month_year = (df.timestamp.dt.month + df.timestamp.dt.year * 100)\n",
    "month_year_cnt_map = month_year.value_counts().to_dict()\n",
    "df[\"month_year_cnt\"] = month_year.map(month_year_cnt_map)\n",
    "\n",
    "week_year = (df.timestamp.dt.weekofyear + df.timestamp.dt.year * 100)\n",
    "week_year_cnt_map = week_year.value_counts().to_dict()\n",
    "df[\"week_year_cnt\"] = week_year.map(week_year_cnt_map)"
   ]
  },
  {
   "cell_type": "markdown",
   "metadata": {
    "id": "pCajk45_KDSz"
   },
   "source": [
    "Добавьте следюущие дополнительные признаки:\n",
    "* Месяц (из колонки `timestamp`)\n",
    "* День недели (из колонки `timestamp`)\n",
    "* Отношение \"этаж / максимальный этаж в здании\" (колонки `floor` и `max_floor`)\n",
    "* Отношение \"площадь кухни / площадь квартиры\" (колонки `kitchen_sq` и `full_sq`)\n",
    "\n",
    "По желанию можно добавить и другие признаки."
   ]
  },
  {
   "cell_type": "code",
   "execution_count": 448,
   "metadata": {
    "ExecuteTime": {
     "end_time": "2022-04-30T13:44:54.354283Z",
     "start_time": "2022-04-30T13:44:54.173376Z"
    },
    "id": "dXZkoUL8Kve6"
   },
   "outputs": [],
   "source": [
    "df['month'] = df['timestamp'].apply(lambda time: time.month)\n",
    "df['day_of_week'] = df['timestamp'].apply(lambda time: time.day_of_week)\n",
    "df['floor_to_max'] = df['floor'] / df['max_floor']\n",
    "df['kitchen_size'] = df['kitch_sq'] / df['full_sq']"
   ]
  },
  {
   "cell_type": "markdown",
   "metadata": {
    "id": "_-jCowvWLiXZ"
   },
   "source": [
    "Разделите выборку на обучающую и тестовую еще раз (потому что дополнительные признаки созданы для исходной выборки)."
   ]
  },
  {
   "cell_type": "code",
   "execution_count": 449,
   "metadata": {
    "ExecuteTime": {
     "end_time": "2022-04-30T13:44:55.520990Z",
     "start_time": "2022-04-30T13:44:54.407687Z"
    },
    "id": "0f-vO3LcLhdf"
   },
   "outputs": [],
   "source": [
    "X = df.drop(['price'], axis=1)\n",
    "y = df['price']\n",
    "X_train, X_test, y_train, y_test = train_test_split(X, y, test_size=0.2, random_state=42)\n",
    "\n",
    "X_train = X_train[not_na_num_columns + useful_columns]\n",
    "X_test = X_test[not_na_num_columns + useful_columns]\n",
    "repair_features(X_train, X_test)"
   ]
  },
  {
   "cell_type": "markdown",
   "metadata": {
    "id": "CPtzkpFEvBw9"
   },
   "source": [
    "### Model Selection (3 балла)\n",
    "\n",
    "Посмотрите, какого качества можно добиться если использовать разные модели:\n",
    "* `DecisionTreeRegressor` из `sklearn`\n",
    "* `RandomForestRegressor` из `sklearn`\n",
    "* `CatBoostRegressor`\n",
    "\n",
    "Также вы можете попробовать линейные модели, другие бустинги (`LigthGBM` и `XGBoost`).\n",
    "\n",
    "Почти все библиотеки поддерживают удобный способ подбора гиперпараметров: посмотрите как это делать в [sklearn](https://scikit-learn.org/stable/modules/generated/sklearn.model_selection.GridSearchCV.html) или в [catboost](https://catboost.ai/docs/concepts/python-reference_catboostregressor_grid_search.html).\n",
    "\n",
    "Проверяйте качество каждой модели на тестовой выборке и выберите наилучшую."
   ]
  },
  {
   "cell_type": "code",
   "execution_count": 465,
   "metadata": {
    "ExecuteTime": {
     "end_time": "2022-04-30T13:52:05.257782Z",
     "start_time": "2022-04-30T13:52:02.839540Z"
    },
    "id": "PZstXx6uNRfE"
   },
   "outputs": [
    {
     "name": "stdout",
     "output_type": "stream",
     "text": [
      "RMSE на одном дереве: 3906593.91\n"
     ]
    }
   ],
   "source": [
    "single_tree = DecisionTreeRegressor()\n",
    "single_tree.fit(X_train, y_train)\n",
    "\n",
    "y_pred = single_tree.predict(X_test)\n",
    "print(f'RMSE на одном дереве: {metrics.mean_squared_error(y_test, y_pred, squared=False):.2f}')"
   ]
  },
  {
   "cell_type": "code",
   "execution_count": 453,
   "metadata": {
    "ExecuteTime": {
     "end_time": "2022-04-30T13:48:40.962562Z",
     "start_time": "2022-04-30T13:48:40.949554Z"
    }
   },
   "outputs": [
    {
     "name": "stdout",
     "output_type": "stream",
     "text": [
      "RMSE на лесе деревьев: 2659761.73\n"
     ]
    }
   ],
   "source": [
    "single_forest = RandomForestRegressor()\n",
    "single_forest.fit(X_train, y_train)\n",
    "\n",
    "y_pred = single_forest.predict(X_test)\n",
    "print(f'RMSE на лесе деревьев: {metrics.mean_squared_error(y_test, y_pred, squared=False):.2f}')"
   ]
  },
  {
   "cell_type": "code",
   "execution_count": 464,
   "metadata": {
    "ExecuteTime": {
     "end_time": "2022-04-30T13:51:52.098342Z",
     "start_time": "2022-04-30T13:51:50.467898Z"
    }
   },
   "outputs": [
    {
     "name": "stdout",
     "output_type": "stream",
     "text": [
      "RMSE на Catboost: 2673186.02\n"
     ]
    }
   ],
   "source": [
    "from catboost import CatBoostRegressor\n",
    "model = CatBoostRegressor(iterations=300,\n",
    "                          learning_rate=0.2,\n",
    "                          depth=2)\n",
    "\n",
    "model.fit(X_train, y_train, verbose=0)\n",
    "y_pred = model.predict(X_test)\n",
    "print(f'RMSE на Catboost: {metrics.mean_squared_error(y_test, y_pred, squared=False):.2f}')"
   ]
  },
  {
   "cell_type": "markdown",
   "metadata": {},
   "source": [
    "**Давайте попробуем grid_search c двумя самыми многообещающими моделями**"
   ]
  },
  {
   "cell_type": "code",
   "execution_count": 470,
   "metadata": {
    "ExecuteTime": {
     "end_time": "2022-04-30T14:26:48.413572Z",
     "start_time": "2022-04-30T14:19:26.728305Z"
    }
   },
   "outputs": [
    {
     "name": "stdout",
     "output_type": "stream",
     "text": [
      "Fitting 5 folds for each of 8 candidates, totalling 40 fits\n",
      "RMSE на лесу с GridSearch: 2846702.65\n"
     ]
    }
   ],
   "source": [
    "from sklearn.model_selection import GridSearchCV  # Лес сильно мучать не будем\n",
    "parameters = {'n_estimators': [200], 'min_samples_leaf':[3, 6], 'max_depth':[3, 5], \n",
    "              'n_jobs' : [-1], 'max_features': ['auto', 'sqrt']}\n",
    "single_forest = RandomForestRegressor()\n",
    "model = GridSearchCV(single_forest, parameters, verbose=1)\n",
    "model.fit(X_train, y_train)\n",
    "y_pred = model.predict(X_test)\n",
    "print(f'RMSE на лесу с GridSearch: {metrics.mean_squared_error(y_test, y_pred, squared=False):.2f}')\n",
    "# не получилось, не фортануло, ну и ладно, у нас есть Catboost"
   ]
  },
  {
   "cell_type": "code",
   "execution_count": null,
   "metadata": {
    "ExecuteTime": {
     "end_time": "2022-04-30T15:07:33.998454Z",
     "start_time": "2022-04-30T15:01:02.776333Z"
    }
   },
   "outputs": [],
   "source": [
    "model = CatBoostRegressor()  # Да и Catboost до дедлайна не созреет...\n",
    "\n",
    "grid = {'iterations': [1000],\n",
    "        'learning_rate': [0.03, 0.1, 0.3],\n",
    "        'depth': [3, 6],\n",
    "        'l2_leaf_reg': [1, 3]}\n",
    "\n",
    "grid_search_result = model.grid_search(grid,\n",
    "                                       X=X_train,\n",
    "                                       y=y_train,\n",
    "                                       plot=True)"
   ]
  },
  {
   "cell_type": "code",
   "execution_count": 474,
   "metadata": {
    "ExecuteTime": {
     "end_time": "2022-04-30T15:09:31.363681Z",
     "start_time": "2022-04-30T15:09:11.492661Z"
    }
   },
   "outputs": [
    {
     "name": "stdout",
     "output_type": "stream",
     "text": [
      "RMSE на Catboost с GridSearch: 2555042.26\n"
     ]
    }
   ],
   "source": [
    "model = CatBoostRegressor(iterations=1000,\n",
    "                          learning_rate=0.1,\n",
    "                          depth=6,\n",
    "                          l2_leaf_reg = 3)  # параметры по результат GridSearch\n",
    "\n",
    "model.fit(X_train, y_train, verbose=0)\n",
    "y_pred = model.predict(X_test)\n",
    "print(f'RMSE на Catboost с GridSearch: {metrics.mean_squared_error(y_test, y_pred, squared=False):.2f}')"
   ]
  },
  {
   "cell_type": "markdown",
   "metadata": {
    "id": "JxQnozbtvD6x"
   },
   "source": [
    "### Ensemble v.1 (3 балла)\n",
    "\n",
    "Ансамбли иногда оказываются лучше чем одна большая модель.\n",
    "\n",
    "В колонке `product_type` содержится информация о том, каким является объявление: `Investment` (продажа квартиры как инвестиции) или `OwnerOccupier` (продажа квартиры для жилья). Логично предположить, что если сделать по модели на каждый из этих типов, то качество будет выше.\n",
    "\n",
    "Обучите свои лучшие модели на отдельно на `Investment` и `OwnerOccupier` (т.е. у вас будет `model_invest`, обученная на `(invest_train_X, invest_train_Y)` и `model_owner`, обученная на `(owner_train_X, owner_train_Y)`) и проверьте качество на отложенной выборке (т.е. на исходном `test_split`)."
   ]
  },
  {
   "cell_type": "code",
   "execution_count": 478,
   "metadata": {
    "ExecuteTime": {
     "end_time": "2022-04-30T15:14:14.111155Z",
     "start_time": "2022-04-30T15:14:13.773788Z"
    },
    "id": "HeJOCYa-O_VE"
   },
   "outputs": [],
   "source": [
    "df_investment = df[df['product_type'] == 'Investment']\n",
    "df_owner = df[df['product_type'] == 'OwnerOccupier']\n",
    "\n",
    "X_investment = df_investment.drop(['price'], axis=1)\n",
    "y_investment = df_investment['price']\n",
    "\n",
    "X_owner = df_owner.drop(['price'], axis=1)\n",
    "y_owner = df_owner['price']\n",
    "\n",
    "X_train_investment, X_test_investment, y_train_investment, y_test_investment = train_test_split(\n",
    "    X_investment, y_investment, test_size=0.2, random_state=42)\n",
    "    \n",
    "X_train_owner, X_test_owner, y_train_owner, y_test_owner = train_test_split(\n",
    "    X_owner, y_owner, test_size=0.2, random_state=42)"
   ]
  },
  {
   "cell_type": "code",
   "execution_count": 479,
   "metadata": {
    "ExecuteTime": {
     "end_time": "2022-04-30T15:15:51.947859Z",
     "start_time": "2022-04-30T15:15:50.909011Z"
    }
   },
   "outputs": [],
   "source": [
    "X_train_investment = X_train_investment[not_na_num_columns + useful_columns]\n",
    "X_test_investment = X_test_investment[not_na_num_columns + useful_columns]\n",
    "\n",
    "X_train_owner = X_train_owner[not_na_num_columns + useful_columns]\n",
    "X_test_owner = X_test_owner[not_na_num_columns + useful_columns]\n",
    "\n",
    "repair_features(X_train_investment, X_test_investment)\n",
    "repair_features(X_train_owner, X_test_owner)"
   ]
  },
  {
   "cell_type": "code",
   "execution_count": 480,
   "metadata": {
    "ExecuteTime": {
     "end_time": "2022-04-30T15:19:45.599465Z",
     "start_time": "2022-04-30T15:19:01.353233Z"
    }
   },
   "outputs": [],
   "source": [
    "model_investment = CatBoostRegressor(iterations=1000,\n",
    "                          learning_rate=0.1,\n",
    "                          depth=6,\n",
    "                          l2_leaf_reg = 3)\n",
    "model_owner = CatBoostRegressor(iterations=1000,\n",
    "                          learning_rate=0.1,\n",
    "                          depth=6,\n",
    "                          l2_leaf_reg = 3)\n",
    "\n",
    "model_investment.fit(X_train_investment, y_train_investment, verbose=0)\n",
    "model_owner.fit(X_train_owner, y_train_owner, verbose=0)\n",
    "y_pred_investment = model_investment.predict(X_test_investment)\n",
    "y_pred_owner = model_owner.predict(X_test_owner)"
   ]
  },
  {
   "cell_type": "code",
   "execution_count": 498,
   "metadata": {
    "ExecuteTime": {
     "end_time": "2022-04-30T15:22:20.036953Z",
     "start_time": "2022-04-30T15:22:20.020270Z"
    }
   },
   "outputs": [
    {
     "name": "stdout",
     "output_type": "stream",
     "text": [
      "RMSE на Catboost с разделением по product_type: 2471087.69\n"
     ]
    }
   ],
   "source": [
    "y_pred = np.hstack((y_pred_investment, y_pred_owner))\n",
    "y_test = np.hstack((y_test_investment, y_test_owner))\n",
    "\n",
    "print(f'RMSE на Catboost с разделением по product_type: {metrics.mean_squared_error(y_test, y_pred, squared=False):.2f}')"
   ]
  },
  {
   "cell_type": "markdown",
   "metadata": {},
   "source": [
    "**Реально лучше!**"
   ]
  },
  {
   "cell_type": "markdown",
   "metadata": {
    "id": "J8t-klaK2A6s"
   },
   "source": [
    "### (*) Ensemble v.2 (дополнительно, 2 балла)\n",
    "\n",
    "Попробуйте сделать для `Investment` более сложную модель: обучите `CatBoostRegressor` и `HuberRegressor` из `sklearn`, а затем сложите их предсказания с весами `w_1` и `w_2` (выберите веса сами; сумма весов равняется 1)."
   ]
  },
  {
   "cell_type": "code",
   "execution_count": 503,
   "metadata": {
    "ExecuteTime": {
     "end_time": "2022-04-30T15:25:17.990221Z",
     "start_time": "2022-04-30T15:25:17.974061Z"
    }
   },
   "outputs": [
    {
     "name": "stdout",
     "output_type": "stream",
     "text": [
      "Начальное RMSE на Investment: 2978134.14\n"
     ]
    }
   ],
   "source": [
    "print(f'Начальное RMSE на Investment: {metrics.mean_squared_error(y_test_investment, y_pred_investment, squared=False):.2f}')"
   ]
  },
  {
   "cell_type": "code",
   "execution_count": 504,
   "metadata": {
    "ExecuteTime": {
     "end_time": "2022-04-30T15:25:59.240779Z",
     "start_time": "2022-04-30T15:25:57.361616Z"
    },
    "id": "JOKD-l8HuOgM"
   },
   "outputs": [],
   "source": [
    "from sklearn.linear_model import HuberRegressor\n",
    "huber = HuberRegressor().fit(X_train_investment, y_train_investment)"
   ]
  },
  {
   "cell_type": "code",
   "execution_count": 505,
   "metadata": {
    "ExecuteTime": {
     "end_time": "2022-04-30T15:26:23.725826Z",
     "start_time": "2022-04-30T15:26:23.709757Z"
    }
   },
   "outputs": [],
   "source": [
    "y_pred_investment_huber = huber.predict(X_test_investment)"
   ]
  },
  {
   "cell_type": "code",
   "execution_count": 513,
   "metadata": {
    "ExecuteTime": {
     "end_time": "2022-04-30T15:29:34.287417Z",
     "start_time": "2022-04-30T15:29:34.255894Z"
    }
   },
   "outputs": [],
   "source": [
    "best_w = 0\n",
    "best_RMSE = 1e10\n",
    "for w in np.arange(0, 1, 0.01):\n",
    "    y_pred_investment_ensemble = w * y_pred_investment_huber + (1 - w) * y_pred_investment\n",
    "    RMSE = metrics.mean_squared_error(y_test_investment, y_pred_investment_ensemble, squared=False)\n",
    "    if RMSE < best_RMSE:\n",
    "        best_RMSE = RMSE\n",
    "        best_w = w"
   ]
  },
  {
   "cell_type": "code",
   "execution_count": 518,
   "metadata": {
    "ExecuteTime": {
     "end_time": "2022-04-30T15:31:16.793624Z",
     "start_time": "2022-04-30T15:31:16.785502Z"
    }
   },
   "outputs": [
    {
     "name": "stdout",
     "output_type": "stream",
     "text": [
      "Получившееся RMSE на Investment: 2976295.29\n",
      "Вес при Huber: 0.03\n"
     ]
    }
   ],
   "source": [
    "print(f'Получившееся RMSE на Investment: {best_RMSE:.2f}')\n",
    "print(f'Вес при Huber: {best_w}')"
   ]
  },
  {
   "cell_type": "markdown",
   "metadata": {},
   "source": [
    "**Huber действительно помог улучшить результат, хоть и немного, но и много времени на его обучение не тратилось**"
   ]
  }
 ],
 "metadata": {
  "colab": {
   "collapsed_sections": [],
   "name": "Task.ipynb",
   "provenance": []
  },
  "kernelspec": {
   "display_name": "Python 3 (ipykernel)",
   "language": "python",
   "name": "python3"
  },
  "language_info": {
   "codemirror_mode": {
    "name": "ipython",
    "version": 3
   },
   "file_extension": ".py",
   "mimetype": "text/x-python",
   "name": "python",
   "nbconvert_exporter": "python",
   "pygments_lexer": "ipython3",
   "version": "3.9.7"
  },
  "toc": {
   "base_numbering": 1,
   "nav_menu": {},
   "number_sections": true,
   "sideBar": true,
   "skip_h1_title": false,
   "title_cell": "Table of Contents",
   "title_sidebar": "Contents",
   "toc_cell": false,
   "toc_position": {},
   "toc_section_display": true,
   "toc_window_display": false
  },
  "varInspector": {
   "cols": {
    "lenName": 16,
    "lenType": 16,
    "lenVar": 40
   },
   "kernels_config": {
    "python": {
     "delete_cmd_postfix": "",
     "delete_cmd_prefix": "del ",
     "library": "var_list.py",
     "varRefreshCmd": "print(var_dic_list())"
    },
    "r": {
     "delete_cmd_postfix": ") ",
     "delete_cmd_prefix": "rm(",
     "library": "var_list.r",
     "varRefreshCmd": "cat(var_dic_list()) "
    }
   },
   "types_to_exclude": [
    "module",
    "function",
    "builtin_function_or_method",
    "instance",
    "_Feature"
   ],
   "window_display": false
  }
 },
 "nbformat": 4,
 "nbformat_minor": 1
}
